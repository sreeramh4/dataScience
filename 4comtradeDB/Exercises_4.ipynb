{
 "cells": [
  {
   "cell_type": "markdown",
   "metadata": {},
   "source": [
    "# Exercise notebook 4: Grouping your data\n",
    "\n",
    "This Jupyter notebook, for Part 4 of The Open University's _Learn to code for Data Analysis_ course, contains code examples and coding activities for you.\n",
    "\n",
    "You'll come across steps directing you to this notebook. Once you've done each exercise, go back to the corresponding step and mark it as complete. Remember to run the code in this notebook before you start."
   ]
  },
  {
   "cell_type": "markdown",
   "metadata": {},
   "source": [
    "Intro Video: Ordering large data sets and then grouping them into sets of related items and treating that as a small data set in its own right is another of those things that's hard for us but easy for a programme to do.\n",
    "\n",
    "And as well as processing chunks of a data set as separate groups of items we can also twist and contort a data set, making new rows from columns or many columns from one column and bending it into a shape where we can group it, summarise it, or generate interesting data visualisations directly from it. So that's what we'll be covering in this final week of the course. How to work with groups of data in a single data set and how to get our data sets doing data gymnastics."
   ]
  },
  {
   "cell_type": "markdown",
   "metadata": {},
   "source": [
    "Intro Text: In Week 3 you saw how to merge two datasets containing a common column to create a single, combined dataset. Combining datasets allows us to make comparisons across datasets, as you discovered when looking for correlations between GDP and life expectancy.\n",
    "\n",
    "This week, you’ll learn how to go the other way, separating out distinct ‘subsets’ or groups of data, before summarising them individually.\n",
    "\n",
    "As well as splitting out different groups of data, row and column values can be rearranged to reshape a dataset and allow the creation of a wide range of pivot table style reports from a single data table."
   ]
  },
  {
   "cell_type": "code",
   "execution_count": 31,
   "metadata": {
    "activity": false,
    "run_control": {
     "read_only": false
    }
   },
   "outputs": [],
   "source": [
    "import warnings\n",
    "warnings.simplefilter('ignore', FutureWarning)\n",
    "\n",
    "import matplotlib\n",
    "matplotlib.rcParams['axes.grid'] = True # show gridlines by default\n",
    "%matplotlib inline\n",
    "\n",
    "from pandas import *"
   ]
  },
  {
   "cell_type": "code",
   "execution_count": null,
   "metadata": {},
   "outputs": [],
   "source": []
  },
  {
   "cell_type": "markdown",
   "metadata": {},
   "source": [
    "## Exercise 1: Getting Comtrade data into your notebook\n",
    "\n",
    "In this exercise, you will practice loading data from Comtrade into a pandas dataframe and getting it into a form where you can start to work with it. \n",
    "\n",
    "The following steps and code are an example. Your task for this exercise is stated at the end, after the example.\n",
    "\n",
    "The data is obtained from the [United Nations Comtrade](http://comtrade.un.org/data/) website, by selecting the following configuration:\n",
    "\n",
    "- Type of Product: goods\n",
    "- Frequency: monthly \n",
    "- Periods: all of 2014\n",
    "- Reporter: United Kingdom\n",
    "- Partners: all\n",
    "- Flows: imports and exports\n",
    "- HS (as reported) commodity codes: 0401 (Milk and cream, neither concentrated nor sweetened) and 0402 (Milk and cream, concentrated or sweetened)\n",
    "\n",
    "Clicking on 'Preview' results in a message that the data exceeds 500 rows. Data was downloaded using the *Download CSV* button and the download file renamed appropriately."
   ]
  },
  {
   "cell_type": "code",
   "execution_count": 33,
   "metadata": {},
   "outputs": [],
   "source": [
    "LOCATION='fish_month_comtrade.csv'"
   ]
  },
  {
   "cell_type": "markdown",
   "metadata": {},
   "source": [
    "A URL for downloading all the data as a CSV file can also be obtained via \"View API Link\".\n",
    "It must be modified so that it returns up to 5000 records (set `max=5000`) in the CSV format (`&fmt=csv`)."
   ]
  },
  {
   "cell_type": "code",
   "execution_count": 34,
   "metadata": {},
   "outputs": [],
   "source": [
    "# LOCATION = 'http://comtrade.un.org/api/get?max=5000&type=C&freq=M&px=HS&ps=2014&r=826&p=all&rg=1%2C2&cc=0401%2C0402&fmt=csv'"
   ]
  },
  {
   "cell_type": "markdown",
   "metadata": {},
   "source": [
    "Load the data in from the specified location, ensuring that the various codes are read as strings. Preview the first few rows of the dataset."
   ]
  },
  {
   "cell_type": "code",
   "execution_count": 36,
   "metadata": {},
   "outputs": [
    {
     "data": {
      "text/html": [
       "<div>\n",
       "<style scoped>\n",
       "    .dataframe tbody tr th:only-of-type {\n",
       "        vertical-align: middle;\n",
       "    }\n",
       "\n",
       "    .dataframe tbody tr th {\n",
       "        vertical-align: top;\n",
       "    }\n",
       "\n",
       "    .dataframe thead th {\n",
       "        text-align: right;\n",
       "    }\n",
       "</style>\n",
       "<table border=\"1\" class=\"dataframe\">\n",
       "  <thead>\n",
       "    <tr style=\"text-align: right;\">\n",
       "      <th></th>\n",
       "      <th>Classification</th>\n",
       "      <th>Year</th>\n",
       "      <th>Period</th>\n",
       "      <th>Period Desc.</th>\n",
       "      <th>Aggregate Level</th>\n",
       "      <th>Is Leaf Code</th>\n",
       "      <th>Trade Flow Code</th>\n",
       "      <th>Trade Flow</th>\n",
       "      <th>Reporter Code</th>\n",
       "      <th>Reporter</th>\n",
       "      <th>...</th>\n",
       "      <th>Qty</th>\n",
       "      <th>Alt Qty Unit Code</th>\n",
       "      <th>Alt Qty Unit</th>\n",
       "      <th>Alt Qty</th>\n",
       "      <th>Netweight (kg)</th>\n",
       "      <th>Gross weight (kg)</th>\n",
       "      <th>Trade Value (US$)</th>\n",
       "      <th>CIF Trade Value (US$)</th>\n",
       "      <th>FOB Trade Value (US$)</th>\n",
       "      <th>Flag</th>\n",
       "    </tr>\n",
       "  </thead>\n",
       "  <tbody>\n",
       "    <tr>\n",
       "      <th>0</th>\n",
       "      <td>HS</td>\n",
       "      <td>2014</td>\n",
       "      <td>201406</td>\n",
       "      <td>June 2014</td>\n",
       "      <td>4</td>\n",
       "      <td>0</td>\n",
       "      <td>1</td>\n",
       "      <td>Imports</td>\n",
       "      <td>699</td>\n",
       "      <td>India</td>\n",
       "      <td>...</td>\n",
       "      <td>NaN</td>\n",
       "      <td>NaN</td>\n",
       "      <td>NaN</td>\n",
       "      <td>NaN</td>\n",
       "      <td>675522</td>\n",
       "      <td>NaN</td>\n",
       "      <td>1247477</td>\n",
       "      <td>NaN</td>\n",
       "      <td>NaN</td>\n",
       "      <td>0</td>\n",
       "    </tr>\n",
       "    <tr>\n",
       "      <th>1</th>\n",
       "      <td>HS</td>\n",
       "      <td>2014</td>\n",
       "      <td>201406</td>\n",
       "      <td>June 2014</td>\n",
       "      <td>4</td>\n",
       "      <td>0</td>\n",
       "      <td>1</td>\n",
       "      <td>Imports</td>\n",
       "      <td>699</td>\n",
       "      <td>India</td>\n",
       "      <td>...</td>\n",
       "      <td>NaN</td>\n",
       "      <td>NaN</td>\n",
       "      <td>NaN</td>\n",
       "      <td>NaN</td>\n",
       "      <td>21</td>\n",
       "      <td>NaN</td>\n",
       "      <td>182</td>\n",
       "      <td>NaN</td>\n",
       "      <td>NaN</td>\n",
       "      <td>0</td>\n",
       "    </tr>\n",
       "    <tr>\n",
       "      <th>2</th>\n",
       "      <td>HS</td>\n",
       "      <td>2014</td>\n",
       "      <td>201406</td>\n",
       "      <td>June 2014</td>\n",
       "      <td>4</td>\n",
       "      <td>0</td>\n",
       "      <td>1</td>\n",
       "      <td>Imports</td>\n",
       "      <td>699</td>\n",
       "      <td>India</td>\n",
       "      <td>...</td>\n",
       "      <td>NaN</td>\n",
       "      <td>NaN</td>\n",
       "      <td>NaN</td>\n",
       "      <td>NaN</td>\n",
       "      <td>647736</td>\n",
       "      <td>NaN</td>\n",
       "      <td>1127004</td>\n",
       "      <td>NaN</td>\n",
       "      <td>NaN</td>\n",
       "      <td>0</td>\n",
       "    </tr>\n",
       "  </tbody>\n",
       "</table>\n",
       "<p>3 rows × 35 columns</p>\n",
       "</div>"
      ],
      "text/plain": [
       "  Classification  Year  Period Period Desc.  Aggregate Level  Is Leaf Code  \\\n",
       "0             HS  2014  201406    June 2014                4             0   \n",
       "1             HS  2014  201406    June 2014                4             0   \n",
       "2             HS  2014  201406    June 2014                4             0   \n",
       "\n",
       "   Trade Flow Code Trade Flow Reporter Code Reporter  ...   Qty  \\\n",
       "0                1    Imports           699    India  ...   NaN   \n",
       "1                1    Imports           699    India  ...   NaN   \n",
       "2                1    Imports           699    India  ...   NaN   \n",
       "\n",
       "   Alt Qty Unit Code Alt Qty Unit  Alt Qty  Netweight (kg)  Gross weight (kg)  \\\n",
       "0                NaN          NaN      NaN          675522                NaN   \n",
       "1                NaN          NaN      NaN              21                NaN   \n",
       "2                NaN          NaN      NaN          647736                NaN   \n",
       "\n",
       "   Trade Value (US$)  CIF Trade Value (US$)  FOB Trade Value (US$)  Flag  \n",
       "0            1247477                    NaN                    NaN     0  \n",
       "1                182                    NaN                    NaN     0  \n",
       "2            1127004                    NaN                    NaN     0  \n",
       "\n",
       "[3 rows x 35 columns]"
      ]
     },
     "execution_count": 36,
     "metadata": {},
     "output_type": "execute_result"
    }
   ],
   "source": [
    "fish = read_csv(LOCATION, dtype={'Commodity Code': str, 'Reporter Code':str})\n",
    "fish.head(3)"
   ]
  },
  {
   "cell_type": "markdown",
   "metadata": {},
   "source": [
    "Limit the columns to make the dataframe easier to work with by selecting just a subset of them."
   ]
  },
  {
   "cell_type": "code",
   "execution_count": 38,
   "metadata": {},
   "outputs": [],
   "source": [
    "COLUMNS = ['Year', 'Period','Trade Flow','Reporter', 'Partner', 'Commodity','Commodity Code','Trade Value (US$)']\n",
    "fish = fish[COLUMNS]"
   ]
  },
  {
   "cell_type": "markdown",
   "metadata": {},
   "source": [
    "Derive two new dataframes that separate out the 'World' partner data and the data for individual partner countries."
   ]
  },
  {
   "cell_type": "code",
   "execution_count": 40,
   "metadata": {},
   "outputs": [],
   "source": [
    "fish_world = fish[fish['Partner']== 'World']\n",
    "fish_countries = fish[fish['Partner']!= 'World']"
   ]
  },
  {
   "cell_type": "markdown",
   "metadata": {},
   "source": [
    "You may wish to store a local copy as a CSV file, for example:"
   ]
  },
  {
   "cell_type": "code",
   "execution_count": 42,
   "metadata": {},
   "outputs": [],
   "source": [
    "fish_countries.to_csv('countryfish.csv', index=False)"
   ]
  },
  {
   "cell_type": "markdown",
   "metadata": {},
   "source": [
    "To load the data back in:"
   ]
  },
  {
   "cell_type": "code",
   "execution_count": 43,
   "metadata": {
    "activity": false,
    "run_control": {
     "read_only": false
    }
   },
   "outputs": [
    {
     "data": {
      "text/html": [
       "<div>\n",
       "<style scoped>\n",
       "    .dataframe tbody tr th:only-of-type {\n",
       "        vertical-align: middle;\n",
       "    }\n",
       "\n",
       "    .dataframe tbody tr th {\n",
       "        vertical-align: top;\n",
       "    }\n",
       "\n",
       "    .dataframe thead th {\n",
       "        text-align: right;\n",
       "    }\n",
       "</style>\n",
       "<table border=\"1\" class=\"dataframe\">\n",
       "  <thead>\n",
       "    <tr style=\"text-align: right;\">\n",
       "      <th></th>\n",
       "      <th>Year</th>\n",
       "      <th>Period</th>\n",
       "      <th>Trade Flow</th>\n",
       "      <th>Reporter</th>\n",
       "      <th>Partner</th>\n",
       "      <th>Commodity</th>\n",
       "      <th>Commodity Code</th>\n",
       "      <th>Trade Value (US$)</th>\n",
       "    </tr>\n",
       "  </thead>\n",
       "  <tbody>\n",
       "    <tr>\n",
       "      <th>0</th>\n",
       "      <td>2014</td>\n",
       "      <td>201406</td>\n",
       "      <td>Imports</td>\n",
       "      <td>India</td>\n",
       "      <td>New Zealand</td>\n",
       "      <td>Fish fillets and other fish meat (whether or n...</td>\n",
       "      <td>0304</td>\n",
       "      <td>182</td>\n",
       "    </tr>\n",
       "    <tr>\n",
       "      <th>1</th>\n",
       "      <td>2014</td>\n",
       "      <td>201406</td>\n",
       "      <td>Imports</td>\n",
       "      <td>India</td>\n",
       "      <td>Viet Nam</td>\n",
       "      <td>Fish fillets and other fish meat (whether or n...</td>\n",
       "      <td>0304</td>\n",
       "      <td>1127004</td>\n",
       "    </tr>\n",
       "  </tbody>\n",
       "</table>\n",
       "</div>"
      ],
      "text/plain": [
       "   Year  Period Trade Flow Reporter      Partner  \\\n",
       "0  2014  201406    Imports    India  New Zealand   \n",
       "1  2014  201406    Imports    India     Viet Nam   \n",
       "\n",
       "                                           Commodity Commodity Code  \\\n",
       "0  Fish fillets and other fish meat (whether or n...           0304   \n",
       "1  Fish fillets and other fish meat (whether or n...           0304   \n",
       "\n",
       "   Trade Value (US$)  \n",
       "0                182  \n",
       "1            1127004  "
      ]
     },
     "execution_count": 43,
     "metadata": {},
     "output_type": "execute_result"
    }
   ],
   "source": [
    "load_test = read_csv('countryfish.csv', dtype={'Commodity Code':str, 'Reporter Code':str})\n",
    "load_test.head(2)"
   ]
  },
  {
   "cell_type": "markdown",
   "metadata": {},
   "source": [
    "If you are on a Windows computer, data files may sometimes be saved using a file encoding (*Latin-1*). Pandas may not recognise this by default, in which case you will see a `UnicodeDecodeError`.\n",
    "\n",
    "In such cases, opening files in `read_excel()` or `read_csv()` using the parameter  `encoding=\"ISO-8859-1\"` or  `encoding = \"Latin-1\"` should fix the problem. For example, edit the previous command to read:\n",
    "\n",
    "`load_test=read_csv('countrymilk.csv', dtype={'Commodity Code':str}, encoding = \"ISO-8859-1\")`\n",
    "\n",
    "### Subsetting Your Data\n",
    "For large or heterogenous datasets, it is often convenient to create subsets of the data. To further separate out the imports:\n"
   ]
  },
  {
   "cell_type": "code",
   "execution_count": 58,
   "metadata": {},
   "outputs": [],
   "source": [
    "fish_imports = fish[fish['Trade Flow'] == 'Imports']\n",
    "fish_countries_imports = fish_countries[fish_countries['Trade Flow']== 'Imports']\n",
    "fish_world_imports = fish_world[fish_world['Trade Flow']=='Imports']                                        \n"
   ]
  },
  {
   "cell_type": "code",
   "execution_count": 59,
   "metadata": {},
   "outputs": [
    {
     "data": {
      "text/plain": [
       "Year                                                              2014\n",
       "Period                                                          201412\n",
       "Trade Flow                                                     Imports\n",
       "Reporter                                                         India\n",
       "Partner                                                       Viet Nam\n",
       "Commodity            Fish fillets and other fish meat (whether or n...\n",
       "Commodity Code                                                    0304\n",
       "Trade Value (US$)                                              1973700\n",
       "dtype: object"
      ]
     },
     "execution_count": 59,
     "metadata": {},
     "output_type": "execute_result"
    }
   ],
   "source": [
    "fish_countries_imports.max()"
   ]
  },
  {
   "cell_type": "code",
   "execution_count": 53,
   "metadata": {},
   "outputs": [
    {
     "data": {
      "text/plain": [
       "Year                                                              2014\n",
       "Period                                                          201401\n",
       "Trade Flow                                                     Imports\n",
       "Reporter                                                         India\n",
       "Partner                                                          Chile\n",
       "Commodity            Fish fillets and other fish meat (whether or n...\n",
       "Commodity Code                                                    0304\n",
       "Trade Value (US$)                                                  182\n",
       "dtype: object"
      ]
     },
     "execution_count": 53,
     "metadata": {},
     "output_type": "execute_result"
    }
   ],
   "source": [
    "fish_countries_imports.min()"
   ]
  },
  {
   "cell_type": "code",
   "execution_count": 54,
   "metadata": {},
   "outputs": [],
   "source": [
    "fish_exports = fish[fish['Trade Flow'] == 'Exports']\n",
    "fish_countries_exports = fish_countries[fish_countries['Trade Flow']== 'Exports']\n",
    "fish_world_exports = fish_world[fish_world['Trade Flow']=='Exports']  "
   ]
  },
  {
   "cell_type": "code",
   "execution_count": 56,
   "metadata": {},
   "outputs": [
    {
     "data": {
      "text/plain": [
       "Year                                                              2014\n",
       "Period                                                          201401\n",
       "Trade Flow                                                     Exports\n",
       "Reporter                                                         India\n",
       "Partner                                                        Algeria\n",
       "Commodity            Fish fillets and other fish meat (whether or n...\n",
       "Commodity Code                                                    0304\n",
       "Trade Value (US$)                                                   17\n",
       "dtype: object"
      ]
     },
     "execution_count": 56,
     "metadata": {},
     "output_type": "execute_result"
    }
   ],
   "source": [
    "fish_countries_exports.min()"
   ]
  },
  {
   "cell_type": "code",
   "execution_count": 57,
   "metadata": {},
   "outputs": [
    {
     "data": {
      "text/plain": [
       "Year                                                              2014\n",
       "Period                                                          201412\n",
       "Trade Flow                                                     Exports\n",
       "Reporter                                                         India\n",
       "Partner                                                       Viet Nam\n",
       "Commodity            Fish fillets and other fish meat (whether or n...\n",
       "Commodity Code                                                    0304\n",
       "Trade Value (US$)                                              9406030\n",
       "dtype: object"
      ]
     },
     "execution_count": 57,
     "metadata": {},
     "output_type": "execute_result"
    }
   ],
   "source": [
    "fish_countries_exports.max()"
   ]
  },
  {
   "cell_type": "markdown",
   "metadata": {},
   "source": [
    "## Conclusion\n",
    "\n",
    "The counrty chosen for the analysis was India and the commodity chosen is 0304 -Fish Fillets and other fish meats. From the data accessed of the year 2014 we were able to run the analysis and figure out that the maximum import of fish was made to Vietnam in December 2014 for a value of 1973700USD. Surprise, Surprise! The minimum export for the month of December 2014 was also to Vietnam with trade value of 9406030 USD. \n",
    "\n",
    "The minimum import of Fish was with Chile in January 2014 with a trade value of 182USD. The minimum Export relation was with Algeria in Jan 2014 with a trade value of 17USD"
   ]
  },
  {
   "cell_type": "markdown",
   "metadata": {},
   "source": [
    "### Sorting the data\n",
    "\n",
    "Having loaded in the data, find the most valuable partners in terms of import trade flow during a particular month by sorting the data by *decreasing* trade value and then selecting the top few rows."
   ]
  },
  {
   "cell_type": "code",
   "execution_count": null,
   "metadata": {},
   "outputs": [],
   "source": []
  },
  {
   "cell_type": "code",
   "execution_count": null,
   "metadata": {
    "activity": false,
    "run_control": {
     "read_only": false
    }
   },
   "outputs": [],
   "source": [
    "milkImportsInJanuary2014 = milk_countries_imports[milk_countries_imports['Period'] == 201401]\n",
    "milkImportsInJanuary2014.sort_values('Trade Value (US$)',ascending=False).head(10)"
   ]
  },
  {
   "cell_type": "code",
   "execution_count": 47,
   "metadata": {},
   "outputs": [
    {
     "data": {
      "text/html": [
       "<div>\n",
       "<style scoped>\n",
       "    .dataframe tbody tr th:only-of-type {\n",
       "        vertical-align: middle;\n",
       "    }\n",
       "\n",
       "    .dataframe tbody tr th {\n",
       "        vertical-align: top;\n",
       "    }\n",
       "\n",
       "    .dataframe thead th {\n",
       "        text-align: right;\n",
       "    }\n",
       "</style>\n",
       "<table border=\"1\" class=\"dataframe\">\n",
       "  <thead>\n",
       "    <tr style=\"text-align: right;\">\n",
       "      <th></th>\n",
       "      <th>Year</th>\n",
       "      <th>Period</th>\n",
       "      <th>Trade Flow</th>\n",
       "      <th>Reporter</th>\n",
       "      <th>Partner</th>\n",
       "      <th>Commodity</th>\n",
       "      <th>Commodity Code</th>\n",
       "      <th>Trade Value (US$)</th>\n",
       "    </tr>\n",
       "  </thead>\n",
       "  <tbody>\n",
       "    <tr>\n",
       "      <th>77</th>\n",
       "      <td>2014</td>\n",
       "      <td>201401</td>\n",
       "      <td>Imports</td>\n",
       "      <td>India</td>\n",
       "      <td>Viet Nam</td>\n",
       "      <td>Fish fillets and other fish meat (whether or n...</td>\n",
       "      <td>0304</td>\n",
       "      <td>1973700</td>\n",
       "    </tr>\n",
       "    <tr>\n",
       "      <th>74</th>\n",
       "      <td>2014</td>\n",
       "      <td>201401</td>\n",
       "      <td>Imports</td>\n",
       "      <td>India</td>\n",
       "      <td>Denmark</td>\n",
       "      <td>Fish fillets and other fish meat (whether or n...</td>\n",
       "      <td>0304</td>\n",
       "      <td>143412</td>\n",
       "    </tr>\n",
       "    <tr>\n",
       "      <th>75</th>\n",
       "      <td>2014</td>\n",
       "      <td>201401</td>\n",
       "      <td>Imports</td>\n",
       "      <td>India</td>\n",
       "      <td>Other Asia, nes</td>\n",
       "      <td>Fish fillets and other fish meat (whether or n...</td>\n",
       "      <td>0304</td>\n",
       "      <td>75853</td>\n",
       "    </tr>\n",
       "    <tr>\n",
       "      <th>76</th>\n",
       "      <td>2014</td>\n",
       "      <td>201401</td>\n",
       "      <td>Imports</td>\n",
       "      <td>India</td>\n",
       "      <td>United Kingdom</td>\n",
       "      <td>Fish fillets and other fish meat (whether or n...</td>\n",
       "      <td>0304</td>\n",
       "      <td>39792</td>\n",
       "    </tr>\n",
       "    <tr>\n",
       "      <th>78</th>\n",
       "      <td>2014</td>\n",
       "      <td>201401</td>\n",
       "      <td>Imports</td>\n",
       "      <td>India</td>\n",
       "      <td>United Arab Emirates</td>\n",
       "      <td>Fish fillets and other fish meat (whether or n...</td>\n",
       "      <td>0304</td>\n",
       "      <td>25114</td>\n",
       "    </tr>\n",
       "    <tr>\n",
       "      <th>73</th>\n",
       "      <td>2014</td>\n",
       "      <td>201401</td>\n",
       "      <td>Imports</td>\n",
       "      <td>India</td>\n",
       "      <td>Japan</td>\n",
       "      <td>Fish fillets and other fish meat (whether or n...</td>\n",
       "      <td>0304</td>\n",
       "      <td>2865</td>\n",
       "    </tr>\n",
       "  </tbody>\n",
       "</table>\n",
       "</div>"
      ],
      "text/plain": [
       "    Year  Period Trade Flow Reporter               Partner  \\\n",
       "77  2014  201401    Imports    India              Viet Nam   \n",
       "74  2014  201401    Imports    India               Denmark   \n",
       "75  2014  201401    Imports    India       Other Asia, nes   \n",
       "76  2014  201401    Imports    India        United Kingdom   \n",
       "78  2014  201401    Imports    India  United Arab Emirates   \n",
       "73  2014  201401    Imports    India                 Japan   \n",
       "\n",
       "                                            Commodity Commodity Code  \\\n",
       "77  Fish fillets and other fish meat (whether or n...           0304   \n",
       "74  Fish fillets and other fish meat (whether or n...           0304   \n",
       "75  Fish fillets and other fish meat (whether or n...           0304   \n",
       "76  Fish fillets and other fish meat (whether or n...           0304   \n",
       "78  Fish fillets and other fish meat (whether or n...           0304   \n",
       "73  Fish fillets and other fish meat (whether or n...           0304   \n",
       "\n",
       "    Trade Value (US$)  \n",
       "77            1973700  \n",
       "74             143412  \n",
       "75              75853  \n",
       "76              39792  \n",
       "78              25114  \n",
       "73               2865  "
      ]
     },
     "execution_count": 47,
     "metadata": {},
     "output_type": "execute_result"
    }
   ],
   "source": [
    "fishImportsInJanuary2014 = fish_countries_imports[fish_countries_imports['Period'] == 201401]\n",
    "fishImportsInJanuary2014.sort_values('Trade Value (US$)',ascending=False).head(10)"
   ]
  },
  {
   "cell_type": "markdown",
   "metadata": {},
   "source": [
    "### Task\n",
    "\n",
    "To complete these tasks you could copy this notebook and amend the code or create a new notebook to do the analysis for your chosen data.\n",
    "\n",
    "Using the [Comtrade Data website](http://comtrade.un.org/data/), identify a dataset that describes the import and export trade flows for a particular service or form of goods between your country (as reporter) and all ('All') the other countries in the world. Get the monthly data for all months in 2014.\n",
    "\n",
    "Download the data as a CSV file and add the file to the same folder as the one containing this notebook. Load the data in from the file into a pandas dataframe. Create an easier to work with dataframe that excludes data associated with the 'World' partner. Sort this data to see which countries are the biggest partners in terms of import and export trade flow."
   ]
  },
  {
   "cell_type": "markdown",
   "metadata": {},
   "source": [
    "**Now go back to the course step and mark it complete.**"
   ]
  },
  {
   "cell_type": "markdown",
   "metadata": {},
   "source": [
    "## Exercise 2: Grouping data\n",
    "\n",
    "On many occasions, a dataframe may be organised as groups of rows where the group membership is identified based on cell values within one or more 'key' columns. **Grouping** refers to the process whereby rows associated with a particular group are collated so that you can work with just those rows as distinct subsets of the whole dataset.\n",
    "\n",
    "The number of groups the dataframe will be split into is based on the number of unique values identified within a single key column, or the number of unique combinations of values for two or more key columns.\n",
    "\n",
    "The `groupby()` method runs down each row in a data frame, splitting the rows into separate groups based on the unique values associated with the key column or columns.\n",
    "\n",
    "The following is an example of the steps and code needed to split the dataframe from the Exercise 1 example. "
   ]
  },
  {
   "cell_type": "markdown",
   "metadata": {},
   "source": [
    "### Grouping the data"
   ]
  },
  {
   "cell_type": "markdown",
   "metadata": {},
   "source": [
    "Split the data into two different subsets of data (imports and exports), by grouping on trade flow."
   ]
  },
  {
   "cell_type": "code",
   "execution_count": null,
   "metadata": {
    "activity": false,
    "run_control": {
     "read_only": false
    }
   },
   "outputs": [],
   "source": [
    "groups = milk_countries.groupby('Trade Flow')"
   ]
  },
  {
   "cell_type": "markdown",
   "metadata": {},
   "source": [
    "Inspect the first few rows associated with a particular group:"
   ]
  },
  {
   "cell_type": "code",
   "execution_count": null,
   "metadata": {
    "activity": false,
    "run_control": {
     "read_only": false
    }
   },
   "outputs": [],
   "source": [
    "groups.get_group('Imports').head()"
   ]
  },
  {
   "cell_type": "markdown",
   "metadata": {},
   "source": [
    "As well as grouping on a single term, you can create groups based on multiple columns by passing in several column names as a list. For example, generate groups based on commodity code *and* trade flow, and then preview the keys used to define the groups."
   ]
  },
  {
   "cell_type": "code",
   "execution_count": null,
   "metadata": {
    "activity": false,
    "run_control": {
     "read_only": false
    }
   },
   "outputs": [],
   "source": [
    "GROUPING_COMMFLOW = ['Commodity Code','Trade Flow']\n",
    "\n",
    "groups = milk_countries.groupby(GROUPING_COMMFLOW)\n",
    "groups.groups.keys()"
   ]
  },
  {
   "cell_type": "markdown",
   "metadata": {},
   "source": [
    "Retrieve a group based on multiple group levels by passing in a tuple that specifies a value for each index column. For example, if a grouping is based on the `'Partner'` and `'Trade Flow'` columns, the argument of `get_group` has to be a partner/flow pair, like `('France', 'Import')` to  get all rows associated with imports from France."
   ]
  },
  {
   "cell_type": "code",
   "execution_count": null,
   "metadata": {
    "activity": false,
    "run_control": {
     "read_only": false
    }
   },
   "outputs": [],
   "source": [
    "GROUPING_PARTNERFLOW = ['Partner','Trade Flow']\n",
    "groups = milk_countries.groupby(GROUPING_PARTNERFLOW)\n",
    "\n",
    "GROUP_PARTNERFLOW= ('France','Imports')\n",
    "groups.get_group( GROUP_PARTNERFLOW )"
   ]
  },
  {
   "cell_type": "markdown",
   "metadata": {},
   "source": [
    "To find the leading partner for a particular commodity, group by commodity, get the desired group, and then sort the result."
   ]
  },
  {
   "cell_type": "code",
   "execution_count": null,
   "metadata": {
    "activity": false,
    "run_control": {
     "read_only": false
    }
   },
   "outputs": [],
   "source": [
    "groups = milk_countries.groupby(['Commodity Code'])\n",
    "groups.get_group('0402').sort_values(\"Trade Value (US$)\", ascending=False).head()"
   ]
  },
  {
   "cell_type": "markdown",
   "metadata": {},
   "source": [
    "### Task\n",
    "\n",
    "Using your own data set from Exercise 1, try to group the data in a variety of ways, finding the most significant trade partner in each case:\n",
    "\n",
    "- by commodity, or commodity code\n",
    "- by trade flow, commodity and year."
   ]
  },
  {
   "cell_type": "markdown",
   "metadata": {},
   "source": [
    "**Now go back to the course step and mark it complete.**"
   ]
  },
  {
   "cell_type": "markdown",
   "metadata": {},
   "source": [
    "## Exercise 3: Experimenting with Split-Apply-Combine – Summary reports\n",
    "\n",
    "Having learned how to group data using the `groupby()` method, you will now start to put those groups to work."
   ]
  },
  {
   "cell_type": "markdown",
   "metadata": {},
   "source": [
    "### Aggregation operations – Generating *Summary* reports\n",
    "\n",
    "Aggegration operations can be invoked using the `aggregate()` method.\n",
    "\n",
    "To find the total value of imports traded for each commodity within the period, take the world dataframe, and sum the values over the trade value column within each grouping."
   ]
  },
  {
   "cell_type": "code",
   "execution_count": null,
   "metadata": {
    "activity": false,
    "run_control": {
     "read_only": false
    }
   },
   "outputs": [],
   "source": [
    "milk_world_imports.groupby('Commodity Code')['Trade Value (US$)'].aggregate(sum)"
   ]
  },
  {
   "cell_type": "markdown",
   "metadata": {},
   "source": [
    "So that's 222 million dollars or so on the 0401 commodity, and 341 million dollars or so on 0402.\n",
    "\n",
    "If you total (sum) up all the individual country contributions, you should get similar amounts."
   ]
  },
  {
   "cell_type": "code",
   "execution_count": null,
   "metadata": {
    "activity": false,
    "run_control": {
     "read_only": false
    }
   },
   "outputs": [],
   "source": [
    "milk_imports_grouped=milk_countries_imports.groupby('Commodity Code')\n",
    "milk_imports_grouped['Trade Value (US$)'].aggregate(sum)"
   ]
  },
  {
   "cell_type": "markdown",
   "metadata": {},
   "source": [
    "Not far off – there are perhaps a few rounding errors that would account for the odd couple of million that appear to be missing..."
   ]
  },
  {
   "cell_type": "markdown",
   "metadata": {},
   "source": [
    "### Finding top ranked elements within a group\n",
    "\n",
    "To find the leading import partners across all the milk products, group by partner, sum (total) the trade value within each group, and then sort the result in descending order before displaying the top few entries."
   ]
  },
  {
   "cell_type": "code",
   "execution_count": null,
   "metadata": {
    "activity": false,
    "run_control": {
     "read_only": false
    }
   },
   "outputs": [],
   "source": [
    "milk_countries_imports_totals=milk_countries_imports.groupby('Partner')[['Trade Value (US$)']].aggregate(sum)\n",
    "milk_countries_imports_totals.sort_values('Trade Value (US$)', ascending=False).head()"
   ]
  },
  {
   "cell_type": "markdown",
   "metadata": {},
   "source": [
    "### Generating simple charts\n",
    "\n",
    "One of the useful features of the `aggregate()` method is that it returns an object that can be plotted from directly, in this example a horizontal bar chart."
   ]
  },
  {
   "cell_type": "code",
   "execution_count": null,
   "metadata": {
    "activity": false,
    "run_control": {
     "read_only": false
    }
   },
   "outputs": [],
   "source": [
    "milk_imports_grouped['Trade Value (US$)'].aggregate(sum).plot(kind='barh')"
   ]
  },
  {
   "cell_type": "markdown",
   "metadata": {},
   "source": [
    "### Generating alternative groupings\n",
    "\n",
    "Reports can also be generated to show the total imports per month for each commodity: group on commodity, trade flow and period, and then sum the trade values contained within each group."
   ]
  },
  {
   "cell_type": "code",
   "execution_count": null,
   "metadata": {
    "activity": false,
    "run_control": {
     "read_only": false
    }
   },
   "outputs": [],
   "source": [
    "monthlies=milk_countries_imports.groupby(['Commodity','Trade Flow','Period'])['Trade Value (US$)'].aggregate(sum)\n",
    "monthlies"
   ]
  },
  {
   "cell_type": "markdown",
   "metadata": {},
   "source": [
    "The `groupby()` method *splits* the data into separate distinct groups of rows, and then the `aggregate()` method takes each group of rows from the results of the `groupby()` operation, *applies* the specified aggregation function, and then *combines* the results in the output. \n",
    "\n",
    "The aggregation function itself is applied to all columns of an appropriate type. In the example, the only numeric column that makes sense to aggregate over is the trade value column.\n",
    "\n",
    "As well as built in summary operations, such as finding the total (`sum`), or maximum or minimum value in a group (`max`, `min`), aggregating functions imported from other Python packages can also be used. As shown in the next example, the `numpy` package has a function `mean` that will calculate the mean (simple average) value for a set of values.\n",
    "\n",
    "### Generating several aggregation values at the same time\n",
    "To generate several aggregate reports in a single line of code, provide a list of several aggregating operations to the `aggregate()` method:"
   ]
  },
  {
   "cell_type": "code",
   "execution_count": null,
   "metadata": {
    "activity": false,
    "run_control": {
     "read_only": false
    }
   },
   "outputs": [],
   "source": [
    "from numpy import mean\n",
    "\n",
    "GROUPING_COMMFLOWPERIOD=['Commodity','Trade Flow','Period']\n",
    "milk_countries.groupby(GROUPING_COMMFLOWPERIOD)['Trade Value (US$)'].aggregate([sum, min, max, mean])"
   ]
  },
  {
   "cell_type": "markdown",
   "metadata": {},
   "source": [
    "By combining different grouping combinations and aggregate functions, you can quickly ask a range of questions over the data or generate a wide variety of charts from it.\n",
    "\n",
    "Sometimes, however,  it can be quite hard to see any 'outstanding' values in a complex pivot table. In such cases, a chart may help you see which values are significantly larger or smaller than the other values.\n",
    "\n",
    "For example, plot the maximum value by month across each code/period combination to see which month saw the maximum peak flow of imports from a single partner."
   ]
  },
  {
   "cell_type": "code",
   "execution_count": null,
   "metadata": {
    "activity": false,
    "run_control": {
     "read_only": false
    }
   },
   "outputs": [],
   "source": [
    "milk_countries_imports.groupby(['Commodity Code','Period'])['Trade Value (US$)'].aggregate(max).plot(kind='barh')"
   ]
  },
  {
   "cell_type": "markdown",
   "metadata": {},
   "source": [
    "For the 0401 commodity, the largest single monthly trade flow in 2014 appears to have taken place in September (201409). For the 0402 commodity, the weakest month was December, 2014."
   ]
  },
  {
   "cell_type": "markdown",
   "metadata": {},
   "source": [
    "To chart the mean trade flows by month, simply aggregate on the *mean* rather than the `max`."
   ]
  },
  {
   "cell_type": "markdown",
   "metadata": {},
   "source": [
    "In some cases, you might want to sort the order of the bars in a bar chart by value. By default, the `sort_values()` operator sorts a series or dataframe 'in place'. That is, it sorts the dataframe and doesn't return anything. Use the `inplace=False` parameter to return the sorted values so that the plot function can work on them.\n",
    "\n",
    "The following chart displays the total imports for the combined commodities by partner (including the *World* partner) for the top five partners: the `sort_values()` element sorts the values in descending order, passes them to the `head()` element, which selects the top five and passes those onto the plotting function."
   ]
  },
  {
   "cell_type": "code",
   "execution_count": null,
   "metadata": {},
   "outputs": [],
   "source": [
    "milk_bypartner_total=milk[milk[\"Trade Flow\"]=='Imports'].groupby(['Partner'])['Trade Value (US$)'].aggregate(sum)\n",
    "milk_bypartner_total.head(5)"
   ]
  },
  {
   "cell_type": "markdown",
   "metadata": {},
   "source": [
    "In this case, we don't need to specify the column name when sorting because the aggregation operator returns a *pandas* `Series` and we can sort the values directly:"
   ]
  },
  {
   "cell_type": "code",
   "execution_count": null,
   "metadata": {
    "activity": false,
    "run_control": {
     "read_only": false
    }
   },
   "outputs": [],
   "source": [
    "milk_bypartner_total.sort_values(ascending=False, inplace=False).head(5).plot(kind='barh')"
   ]
  },
  {
   "cell_type": "markdown",
   "metadata": {},
   "source": [
    "### Tasks\n",
    "\n",
    "For the 0402 trade item, which months saw the greatest average (mean) activity? How does that compare with the maximum flows in each month? How does it compare with the total flow in each month?\n",
    "\n",
    "Download your own choice of monthly dataset over one or two years containing both import and export data. (To start with, you may find it convenient to split the data into two dataframes, one for exports and one for imports.)\n",
    "\n",
    "Using your own data:\n",
    "\n",
    "- find out which months saw the largest total value of imports, or exports? \n",
    "- assess, by eye, if there appears to be any seasonal trend in the behaviour of imports or exports?\n",
    "- plot a bar chart showing the top three importers or exporters of your selected trade item over the period you grabbed the data for, compared to the total world trade value.\n"
   ]
  },
  {
   "cell_type": "markdown",
   "metadata": {},
   "source": [
    "**Now go back to the course step and mark it complete.**"
   ]
  },
  {
   "cell_type": "markdown",
   "metadata": {},
   "source": [
    "## Exercise 4: Filtering groups\n",
    "\n",
    "If you have a large dataset that can be split into multiple groups but for which you only want to report on groups that have a particular property, the `filter()` method can be used to apply a test to a group and only return rows from groups that pass a particular group-wide test. If the test evaluates as `False`, the rows included in that group will be ignored."
   ]
  },
  {
   "cell_type": "markdown",
   "metadata": {},
   "source": [
    "Consider the following simple test dataset:"
   ]
  },
  {
   "cell_type": "code",
   "execution_count": null,
   "metadata": {
    "activity": false,
    "run_control": {
     "read_only": false
    }
   },
   "outputs": [],
   "source": [
    "df = DataFrame({'Commodity' : ['Fish', 'Milk', 'Eggs', 'Fish', 'Milk'],\n",
    "                'Trade Flow' : ['Import', 'Import', 'Import', 'Export','Export'],\n",
    "                'Value' : [1,2,4,8,16]})\n",
    "df"
   ]
  },
  {
   "cell_type": "markdown",
   "metadata": {},
   "source": [
    "One reason for filtering a dataset might be to exclude 'sparse' or infrequently occurring items, such as trade partners who only seem to trade for less than six months of the year.\n",
    "\n",
    "To select just the groups that contain more than a certain number of rows, define a function to test the length (that is, the number of rows) of each group and return a `True` or `False` value depending on the test.\n",
    "\n",
    "In the following case, group by trade flow and only return rows from groups containing three or more rows."
   ]
  },
  {
   "cell_type": "code",
   "execution_count": null,
   "metadata": {
    "activity": false,
    "run_control": {
     "read_only": false
    }
   },
   "outputs": [],
   "source": [
    "def groupsOfThreeOrMoreRows(g):\n",
    "    return len(g) >= 3\n",
    "\n",
    "df.groupby('Trade Flow').filter(groupsOfThreeOrMoreRows)"
   ]
  },
  {
   "cell_type": "markdown",
   "metadata": {},
   "source": [
    "You can also select groups based on other group properties. For example, you might select just the groups where the total value for a particular column within a group exceeds a certain threshold.\n",
    "\n",
    "In the following case, select just those commodities where the sum of import and export values is greater than a certain amount to indicate which ones have a large value of trade, in whatever direction, associated with them. First group by the commodity, then filter on the group property of interest."
   ]
  },
  {
   "cell_type": "code",
   "execution_count": null,
   "metadata": {
    "activity": false,
    "run_control": {
     "read_only": false
    }
   },
   "outputs": [],
   "source": [
    "def groupsWithValueGreaterThanFive(g):\n",
    "    return g['Value'].sum() > 5\n",
    "\n",
    "df.groupby('Commodity').filter(groupsWithValueGreaterThanFive)"
   ]
  },
  {
   "cell_type": "markdown",
   "metadata": {},
   "source": [
    "### Filtering on the Comtrade data\n",
    "\n",
    "Now try filtering the Comtrade data relating to the milk imports. Start by creating a subset of the data containing only rows where the total trade value of imports for a particular commodity and partner is greater than $25 million (that is, 25000000)."
   ]
  },
  {
   "cell_type": "code",
   "execution_count": null,
   "metadata": {
    "activity": false,
    "run_control": {
     "read_only": false
    }
   },
   "outputs": [],
   "source": [
    "def groupsWithImportsOver25million(g):\n",
    "    return g['Trade Value (US$)'].sum() > 25000000\n",
    "\n",
    "rows=milk_countries_imports.groupby(['Commodity','Partner']).filter(groupsWithImportsOver25million)"
   ]
  },
  {
   "cell_type": "markdown",
   "metadata": {},
   "source": [
    "Check the filtering by grouping on the commodity and partner and summing the result."
   ]
  },
  {
   "cell_type": "code",
   "execution_count": null,
   "metadata": {
    "activity": false,
    "run_control": {
     "read_only": false
    }
   },
   "outputs": [],
   "source": [
    "rows.groupby(['Commodity','Partner'])['Trade Value (US$)'].aggregate(sum)"
   ]
  },
  {
   "cell_type": "markdown",
   "metadata": {},
   "source": [
    "As before, you can plot the results."
   ]
  },
  {
   "cell_type": "code",
   "execution_count": null,
   "metadata": {
    "activity": false,
    "run_control": {
     "read_only": false
    }
   },
   "outputs": [],
   "source": [
    "rows.groupby(['Commodity','Partner'])['Trade Value (US$)'].aggregate(sum).sort_values(inplace=False,ascending=False).plot(kind='barh')"
   ]
  },
  {
   "cell_type": "markdown",
   "metadata": {},
   "source": [
    "Logical tests can be combined in a filter function, for example testing for partners that only appear to trade infrequently *or* for small total amounts in any particular commodity."
   ]
  },
  {
   "cell_type": "code",
   "execution_count": null,
   "metadata": {
    "activity": false,
    "run_control": {
     "read_only": false
    }
   },
   "outputs": [],
   "source": [
    "def weakpartner(g):\n",
    "    return len(g)<=3 | g['Trade Value (US$)'].sum()<25000\n",
    "\n",
    "weak_milk_countries_imports=milk_countries_imports.groupby(['Commodity','Partner']).filter(weakpartner)\n",
    "weak_milk_countries_imports.groupby(['Commodity','Partner'])[['Trade Value (US$)']].aggregate([len,sum])"
   ]
  },
  {
   "cell_type": "markdown",
   "metadata": {},
   "source": [
    "In this report, many of the listed countries appear to have traded in only one or two months; but while Hungary traded concentrated/sweetened products eight times, the total trade value was not very significant at all."
   ]
  },
  {
   "cell_type": "markdown",
   "metadata": {},
   "source": [
    "### Tasks\n",
    "\n",
    "Filter the dataset so that it only contains rows where the total exports across all the milk products for a particular country are at least two million dollars in any given monthly period. (HINT: group on partner and period and filter against a function that tests the minimum trade value exceeds the required value.)\n",
    "\n",
    "Generate a chart from that dataset that displays the sum total trade value for each partner. (HINT: group on the partner and then aggregate on the sum.)\n",
    "\n",
    "Using your own monthly data for a single year, which countries only trade in your selected trade item rarely or for small amounts? Which partners trade on a regular basis (for example, in at least nine of the months)? \n",
    "\n",
    "Can you also find countries that trade regularly but only for small amounts (for example whose maximum monthly trade value is less than a certain threshold amount) or who trade infrequently but for large amounts (or other combinations thereof)?"
   ]
  },
  {
   "cell_type": "markdown",
   "metadata": {},
   "source": [
    "**Now go back to the course step and mark it complete.**"
   ]
  },
  {
   "cell_type": "markdown",
   "metadata": {},
   "source": [
    "## Exercise 5: Interactive pivot table\n",
    "\n",
    "The interactive pivot table contains a fragment of the milk data downloaded from Comtrade relating to the leading partner importers of milk products to the UK. (**Note:** If you can't see the pivot table, check you have downloaded it to the same folder as this notebook and run the cell below.)\n",
    "\n",
    "Configure the pivot table by dragging the labels into the appropriate row and column selection areas. (You do not need to add all the labels to those areas). Select the aggregation type using the calculation list (which defauts to *count*). Click on the down arrow associated with a label in order to select a subset of values associated with that label.\n",
    "\n",
    "Use the interactive pivot table to generate reports that display:\n",
    "\n",
    "- a single column containing the total value of each trade flow for each commodity  each year (in rows: Year, Commodity, Trade Flow; no columns; sum Trade Value(US$))\n",
    "- for each year and each commodity, a column containing the total trade value by Trade flow (rows: year, commodity; cols Trade Flow; sum trade value)\n",
    "- the total exports for each partner country (rows) by year (columns). Row: partner, trade flow with filter set to export); col: year; sum trade value"
   ]
  },
  {
   "cell_type": "code",
   "execution_count": null,
   "metadata": {
    "activity": false,
    "run_control": {
     "read_only": false
    }
   },
   "outputs": [],
   "source": [
    "from IPython.display import HTML,IFrame\n",
    "\n",
    "IFrame('comtrade_pivot.html',width=1000,height=600)\n"
   ]
  },
  {
   "cell_type": "markdown",
   "metadata": {},
   "source": [
    "## Task\n",
    "\n",
    "Try to come up with some of your own questions and then see if you can use the pivot table to answer them.\n",
    "\n",
    "For example, see if you can use the table to find:\n",
    "\n",
    "- the total value by partner country of each commodity type (with each row corresponding to a particular country)\n",
    "- the total value of trade in commodity type for each month of the year\n",
    "- the leading partners associated with the 0402 commodity code\n",
    "- the minimum trade value, by month and commodity type, for Ireland.\n"
   ]
  },
  {
   "cell_type": "markdown",
   "metadata": {},
   "source": [
    "**Now go back to the course step and mark it complete.**"
   ]
  },
  {
   "cell_type": "markdown",
   "metadata": {},
   "source": [
    "## Exercise 6: Pivot tables with pandas\n"
   ]
  },
  {
   "cell_type": "markdown",
   "metadata": {},
   "source": [
    "Pivot tables can be quite hard to understand, so if you want a gentle dataset to pratice with, here is the simple example dataset used in the previous step that you can try out a few pivot table functions on."
   ]
  },
  {
   "cell_type": "code",
   "execution_count": null,
   "metadata": {
    "activity": false,
    "run_control": {
     "read_only": false
    }
   },
   "outputs": [],
   "source": [
    "#Example dataframe\n",
    "df = DataFrame({\"Commodity\":[\"A\",\"A\",\"A\",\"A\",\"B\",\"B\",\"B\",\"C\",\"C\"],\n",
    "                  \"Amount\":[10,15,5,20,10,10,5,20,30],\n",
    "                  \"Reporter\":[\"P\",\"P\",\"Q\",\"Q\",\"P\",\"P\",\"Q\",\"P\",\"Q\"],\n",
    "                  \"Flow\":[\"X\",\"Y\",\"X\",\"Y\",\"X\",\"Y\",\"X\",\"X\",\"Y\"]},\n",
    "                 columns=[\"Commodity\",\"Reporter\",\"Flow\",\"Amount\"])\n",
    "\n",
    "df"
   ]
  },
  {
   "cell_type": "markdown",
   "metadata": {},
   "source": [
    "### Getting started with pivot tables in pandas \n",
    "\n",
    "The pandas library provides a `pivot_table()` function into which you can pass the elements needed to define the pivot table view you would like to generate over a particular dataset.\n",
    "\n",
    "If you inspect the documentation for the pandas `pivot_table()` function, you will see that it is quite involved (but *DON'T PANIC!*)."
   ]
  },
  {
   "cell_type": "code",
   "execution_count": null,
   "metadata": {
    "activity": false,
    "run_control": {
     "read_only": false
    }
   },
   "outputs": [],
   "source": [
    "##Inspect the documentation for the pandas pivot_table() function\n",
    "##Uncomment the following command (remove the #) and then click the play button in the toolbar to run the cell\n",
    "#?pivot_table\n",
    "##The documentation file should pop up from the bottom of the browser.\n",
    "##Click the x to close it."
   ]
  },
  {
   "cell_type": "markdown",
   "metadata": {},
   "source": [
    "You can start to use the pivot table quite straightforwardly, drawing inspiration from the way you configured the interactive pivot table. The function itself takes the form:\n",
    "\n",
    "`pd.pivot_table(DATAFRAME,\n",
    "                index= (LIST_OF_)DATA_COLUMN(S)_THAT_DEFINE_PIVOT_TABLE_ROWS,\n",
    "                columns= (LIST_OF_)DATA_COLUMN(S)_THAT_DEFINE_PIVOT_TABLE_COLUMNS\n",
    "                values= DATA_COLUMN_TO_APPLY_THE SUMMARYFUNCTION_TO,\n",
    "                aggfunc=sum\n",
    "               )`\n",
    "\n",
    "\n",
    "You can generate a pivot table that shows the total trade value as a single column, grouped into row based subdivisions based on year, country, trade flow and commodity in the following way.\n",
    "\n",
    "The following pivot table reports on a subset of countries. The `isin()` method selects rows whose partner value 'is in' the list of specified partners."
   ]
  },
  {
   "cell_type": "code",
   "execution_count": null,
   "metadata": {
    "activity": false,
    "run_control": {
     "read_only": false
    }
   },
   "outputs": [],
   "source": [
    "KEYPARTNERS = ['Belgium','France','Germany','Ireland','Netherlands','Denmark']\n",
    "milk_keypartners = milk_countries[milk_countries['Partner'].isin(KEYPARTNERS)]\n",
    "\n",
    "pivot_table(milk_keypartners,\n",
    "               index=['Year','Partner','Trade Flow','Commodity'],\n",
    "               values='Trade Value (US$)',\n",
    "               aggfunc=sum)"
   ]
  },
  {
   "cell_type": "markdown",
   "metadata": {},
   "source": [
    "If you just want to use a single data column from the original dataset to specify the row (that is, the `index`) groupings or the column groupings, you don't need to use a list, just pass in the name of the appropriate original data column.\n",
    "\n",
    "So, to look at rows grouped by year, country and commodity, and split columns out by trade flow:"
   ]
  },
  {
   "cell_type": "code",
   "execution_count": null,
   "metadata": {
    "activity": false,
    "run_control": {
     "read_only": false
    }
   },
   "outputs": [],
   "source": [
    "#For convenience, let's assign the output of this pivot table operation to a variable...\n",
    "report = pivot_table(milk_keypartners,\n",
    "               index=['Year','Partner','Commodity'],\n",
    "               columns='Trade Flow',\n",
    "               values='Trade Value (US$)',\n",
    "               aggfunc=sum)\n",
    "\n",
    "#And then display the result, sorted by import value\n",
    "report.sort_values('Imports', ascending=False)"
   ]
  },
  {
   "cell_type": "markdown",
   "metadata": {},
   "source": [
    "One of the features of the interactive pivot table you did not explore was its ability to generate bar chart style views over the pivoted data as well as tabulated results. (In fact, this requires a plugin to the pivot table that has not been installed.)\n",
    "\n",
    "In the same way that you produced charts from pandas dataframes previously, you can visualise the contents of the dataframe produced from the pivot table operation."
   ]
  },
  {
   "cell_type": "code",
   "execution_count": null,
   "metadata": {
    "activity": false,
    "run_control": {
     "read_only": false
    }
   },
   "outputs": [],
   "source": [
    "report.sort_values('Imports').plot(kind='barh')"
   ]
  },
  {
   "cell_type": "markdown",
   "metadata": {},
   "source": [
    "Here, the `.plot()` command produces a *grouped bar chart* with the bars grouped according to the order of the row index values. The values contained within any numerical columns are then displayed as bars."
   ]
  },
  {
   "cell_type": "markdown",
   "metadata": {},
   "source": [
    "### Task\n",
    "\n",
    "Using your own data set containing data for both imports and exports of a particular trade item, see if you can use a pandas pivot table to answer the same questions you asked of your dataset in Exercise 5, as well as asking some new ones.\n",
    "\n",
    "For example, try to use a pivot table to identify partner countries engaging in 'bi-derectional' trade who have total import values and export values greater than a certain threshold every month.\n",
    "\n",
    "You can also use a pivot table in combination with other operations. For example, try using one of the filtered datasets you created using the `filter()` function, such as one that limited rows to partners trading above a certain level, as the basis for a pivot table report."
   ]
  },
  {
   "cell_type": "markdown",
   "metadata": {},
   "source": [
    "**Now go back to the course step and mark it complete.**"
   ]
  }
 ],
 "metadata": {
  "kernelspec": {
   "display_name": "Python 3",
   "language": "python",
   "name": "python3"
  },
  "language_info": {
   "codemirror_mode": {
    "name": "ipython",
    "version": 3
   },
   "file_extension": ".py",
   "mimetype": "text/x-python",
   "name": "python",
   "nbconvert_exporter": "python",
   "pygments_lexer": "ipython3",
   "version": "3.7.0"
  }
 },
 "nbformat": 4,
 "nbformat_minor": 1
}
